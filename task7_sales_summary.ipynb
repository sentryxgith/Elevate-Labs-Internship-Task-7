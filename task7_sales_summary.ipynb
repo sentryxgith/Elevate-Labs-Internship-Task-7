{
 "cells": [
  {
   "cell_type": "markdown",
   "id": "19fa6993",
   "metadata": {},
   "source": [
    "# Task 7: Basic Sales Summary using SQLite and Python\n",
    "\n",
    "This notebook connects to a SQLite database, runs a SQL query to summarize product sales, and visualizes the results using matplotlib."
   ]
  },
  {
   "cell_type": "markdown",
   "id": "b154b398",
   "metadata": {},
   "source": [
    "## 1. Import Required Libraries"
   ]
  },
  {
   "cell_type": "code",
   "execution_count": null,
   "id": "1a16cc3e",
   "metadata": {},
   "outputs": [],
   "source": [
    "import sqlite3\n",
    "import pandas as pd\n",
    "import matplotlib.pyplot as plt"
   ]
  },
  {
   "cell_type": "markdown",
   "id": "4617ad59",
   "metadata": {},
   "source": [
    "## 2. Connect to SQLite Database"
   ]
  },
  {
   "cell_type": "code",
   "execution_count": null,
   "id": "20b6c22d",
   "metadata": {},
   "outputs": [],
   "source": [
    "# Connect to the SQLite database\n",
    "conn = sqlite3.connect(\"sales_data.db\")"
   ]
  },
  {
   "cell_type": "markdown",
   "id": "834857f3",
   "metadata": {},
   "source": [
    "## 3. Run SQL Query to Get Sales Summary"
   ]
  },
  {
   "cell_type": "code",
   "execution_count": null,
   "id": "569eb8c1",
   "metadata": {},
   "outputs": [],
   "source": [
    "query = '''\n",
    "SELECT \n",
    "    product,\n",
    "    SUM(quantity) AS total_quantity,\n",
    "    SUM(quantity * price) AS revenue\n",
    "FROM \n",
    "    sales\n",
    "GROUP BY \n",
    "    product\n",
    "'''\n",
    "df = pd.read_sql_query(query, conn)"
   ]
  },
  {
   "cell_type": "markdown",
   "id": "724686e8",
   "metadata": {},
   "source": [
    "## 4. Display Results"
   ]
  },
  {
   "cell_type": "code",
   "execution_count": null,
   "id": "37e7934d",
   "metadata": {},
   "outputs": [],
   "source": [
    "print(df)"
   ]
  },
  {
   "cell_type": "markdown",
   "id": "27f43165",
   "metadata": {},
   "source": [
    "## 5. Plot Revenue by Product"
   ]
  },
  {
   "cell_type": "code",
   "execution_count": null,
   "id": "1623a4ae",
   "metadata": {},
   "outputs": [],
   "source": [
    "df.plot(kind='bar', x='product', y='revenue', legend=False)\n",
    "plt.title('Revenue by Product')\n",
    "plt.xlabel('Product')\n",
    "plt.ylabel('Revenue')\n",
    "plt.tight_layout()\n",
    "plt.show()"
   ]
  },
  {
   "cell_type": "markdown",
   "id": "b064a31a",
   "metadata": {},
   "source": [
    "## 6. Close the Database Connection"
   ]
  },
  {
   "cell_type": "code",
   "execution_count": null,
   "id": "3fa9ff41",
   "metadata": {},
   "outputs": [],
   "source": [
    "conn.close()"
   ]
  }
 ],
 "metadata": {},
 "nbformat": 4,
 "nbformat_minor": 5
}
